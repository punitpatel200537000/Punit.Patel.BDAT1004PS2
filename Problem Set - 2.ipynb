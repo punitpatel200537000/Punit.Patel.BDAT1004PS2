{
 "cells": [
  {
   "cell_type": "markdown",
   "id": "372ab150",
   "metadata": {},
   "source": [
    "# Name : Punit Patel <br> Course : BDAT<br> Subject : Data Programming 1004-02 <br> Professor : Ethan D. Davis"
   ]
  },
  {
   "cell_type": "markdown",
   "id": "5e46cabf",
   "metadata": {},
   "source": [
    "## <font color='blue'>Question-1 : Consider the following Python module:</font>"
   ]
  },
  {
   "cell_type": "code",
   "execution_count": 1,
   "id": "4f10fda8",
   "metadata": {},
   "outputs": [],
   "source": [
    "a = 0\n",
    "\n",
    "def b():\n",
    "    global a\n",
    "    a = c(a)\n",
    "    \n",
    "def c(a):\n",
    "    return a + 2"
   ]
  },
  {
   "cell_type": "markdown",
   "id": "545d4f5e",
   "metadata": {},
   "source": [
    "### <font color='blue'>After importing the module into the interpreter, you execute:</font>"
   ]
  },
  {
   "cell_type": "code",
   "execution_count": 2,
   "id": "b4294014",
   "metadata": {},
   "outputs": [
    {
     "data": {
      "text/plain": [
       "6"
      ]
     },
     "execution_count": 2,
     "metadata": {},
     "output_type": "execute_result"
    }
   ],
   "source": [
    "b()\n",
    "b()\n",
    "b()\n",
    "a"
   ]
  },
  {
   "cell_type": "markdown",
   "id": "53bc71ed",
   "metadata": {},
   "source": [
    "### <font color=\"blue\">What value is displayed when the last expression (a) is evaluated? Explain your answer by indicating what happens in every executed statement.</font>"
   ]
  },
  {
   "cell_type": "markdown",
   "id": "3d61d880",
   "metadata": {},
   "source": [
    "## <font color=\"Green\"> Answer: </font>"
   ]
  },
  {
   "cell_type": "markdown",
   "id": "cfdbf74a",
   "metadata": {},
   "source": [
    "## <font color=\"green\"> &nbsp;&nbsp;6 </font>\n",
    "\n",
    "### <font color=\"gray\"> <ol><li> The initial value of variable 'a' is declared 0.</li><br><br><li> Then in 'b()' function variable 'a' is declared as a global variable and then stores the return value of function 'c()' in variable 'a' where function 'c()' takes variable 'a' as an argument.</li><br><br><li> Meanwhile in function 'c()' it takes variable 'a' as an argument and returns the value of 'a' + 2.</li><br><br><li> When we call the function 'b()' the first time it takes variable 'a' as globally and then calls function 'c()' with variable 'a' as an argument which returns value 2 and stores it in variable 'a'.</li><br><br><li> When we excecute the function 'b()' for second time it call funtion 'c()' with value of variable 'a' as 2 as argumrnt which return value 4 and store it again in variable 'a'.</li><br><br><li> When we execute the function 'b()' for the third time it calls function 'c()' with the value of variable 'a' as 4 as an argument which returns value 6 and stores it again in variable 'a'.</li><br><br><li>Finally, print the value of the variable 'a' which is 6.</li></ol></font>"
   ]
  },
  {
   "cell_type": "markdown",
   "id": "e8620b2e",
   "metadata": {},
   "source": [
    "## <font color='blue'>Question-2 : Function fileLength(), given to you, takes the name of a file as input and returns the length of the file:</font>"
   ]
  },
  {
   "cell_type": "markdown",
   "id": "7360a9f3",
   "metadata": {},
   "source": [
    "###  >>> fileLength('midterm.py')<br> 284 <br> >>> fileLength('idterm.py')<br> Traceback (most recent call last):<br> File \"<pyshell#34>\", line 1, in \\<module\\><br> fileLength('idterm.py')<br> File \"/Users/me/midterm.py\", line 3, in<br> fileLength<br> infile = open(filename)<br> FileNotFoundError: [Errno 2] No such file or directory:<br> 'idterm.py'<br>\n",
    "\n",
    "## <font color=\"blue\"> As shown above, if the file cannot be found by the interpreter or if it cannot be read<br> as a text file, an exception will be raised.<br> Modify function fileLength() so that a <br>friendly message is printed instead: </font>"
   ]
  },
  {
   "cell_type": "code",
   "execution_count": 3,
   "id": "dc0e4da6",
   "metadata": {},
   "outputs": [
    {
     "name": "stdout",
     "output_type": "stream",
     "text": [
      "377\n"
     ]
    }
   ],
   "source": [
    "import Filelength\n",
    "\n",
    "Filelength.fileLength('midterm.py')"
   ]
  },
  {
   "cell_type": "code",
   "execution_count": 4,
   "id": "b502146d",
   "metadata": {},
   "outputs": [
    {
     "name": "stdout",
     "output_type": "stream",
     "text": [
      "Error: File idterm.py not found.\n"
     ]
    }
   ],
   "source": [
    "Filelength.fileLength('idterm.py')"
   ]
  },
  {
   "cell_type": "markdown",
   "id": "bf675b2e",
   "metadata": {},
   "source": [
    "## <font color='blue'>Question-3 : Write a class named Marsupial that can be used as shown below:</font>"
   ]
  },
  {
   "cell_type": "code",
   "execution_count": 19,
   "id": "b320429d",
   "metadata": {},
   "outputs": [
    {
     "data": {
      "text/plain": [
       "['doll', 'firetruck', 'kitten']"
      ]
     },
     "execution_count": 19,
     "metadata": {},
     "output_type": "execute_result"
    }
   ],
   "source": [
    "class Marsupial:\n",
    "    def __init__(self):\n",
    "        self.listFile = []\n",
    "\n",
    "    def put_in_pouch(self, a):\n",
    "        self.listFile.append(a)\n",
    "\n",
    "    def pouch_contents(self):\n",
    "        return self.listFile\n",
    "\n",
    "\n",
    "class Kangaroo(Marsupial):\n",
    "    def __init__(self, x, y):\n",
    "        super().__init__()\n",
    "        self.x = x\n",
    "        self.y = y\n",
    "\n",
    "    def jump(self, dx, dy):\n",
    "        self.x += dx\n",
    "        self.y += dy\n",
    "\n",
    "    def __str__(self):\n",
    "        return f\"I am a Kangaroo located at coordinates ({self.x}, {self.y})\"\n",
    "\n",
    "m = Marsupial()\n",
    "m.put_in_pouch('doll')\n",
    "m.put_in_pouch('firetruck')\n",
    "m.put_in_pouch('kitten')\n",
    "m.pouch_contents()"
   ]
  },
  {
   "cell_type": "markdown",
   "id": "2f91a22f",
   "metadata": {},
   "source": [
    "## <font color=\"blue\"> Now write a class named Kangaroo as a subclass of Marsupial that inherits all the attributes of Marsupial and also: </font>\n",
    "\n",
    "### <font color=\"black\">a. extends the Marsupial __init__ constructor to take, as input, the coordinates x and y of the Kangaroo object,<br><br> b. supports method jump that takes number values dx and dy as input and moves the kangaroo by dx units along the x-axis and by dy units along the y-axis, and<br><br> c. overloads the __str__ operator so it behaves as shown below.</font>"
   ]
  },
  {
   "cell_type": "code",
   "execution_count": 20,
   "id": "384edf83",
   "metadata": {},
   "outputs": [
    {
     "name": "stdout",
     "output_type": "stream",
     "text": [
      "I am a Kangaroo located at coordinates (0, 0)\n",
      "['doll', 'firetruck', 'kitten']\n",
      "I am a Kangaroo located at coordinates (3, 0)\n"
     ]
    }
   ],
   "source": [
    "k = Kangaroo(0, 0)\n",
    "print(k)\n",
    "k.put_in_pouch('doll')\n",
    "k.put_in_pouch('firetruck')\n",
    "k.put_in_pouch('kitten')\n",
    "print(k.pouch_contents()) \n",
    "k.jump(1, 0)\n",
    "k.jump(1, 0)\n",
    "k.jump(1, 0)\n",
    "print(k)"
   ]
  },
  {
   "cell_type": "markdown",
   "id": "569fc6f3",
   "metadata": {},
   "source": [
    "## <font color='blue'> Question-4 : Write function collatz() that takes a positive integer x as input and prints the Collatz sequence starting at x. A Collatz sequence is obtained by repeatedly applying this rule to the previous number x in the sequence:</font>\n",
    "\n",
    "![Q4.png](Q4.png)\n",
    "    \n",
    "## <font color='blue'> Your function should stop when the sequence gets to number 1. Your implementation must be recursive, without any loops.</font>"
   ]
  },
  {
   "cell_type": "code",
   "execution_count": 21,
   "id": "e2388b73",
   "metadata": {},
   "outputs": [],
   "source": [
    "def collatz(x):\n",
    "    print(x)\n",
    "    if x<= 0:\n",
    "        print(\"Enter Positive number only.\")\n",
    "        return\n",
    "    elif x == 1:\n",
    "        return\n",
    "    elif x % 2 == 0:\n",
    "        a = x // 2\n",
    "        collatz(a)\n",
    "    else:\n",
    "        a = (3 * x) + 1\n",
    "        collatz(a)"
   ]
  },
  {
   "cell_type": "code",
   "execution_count": 22,
   "id": "f0074d91",
   "metadata": {},
   "outputs": [
    {
     "name": "stdout",
     "output_type": "stream",
     "text": [
      "Enter any Positive number: 34\n",
      "34\n",
      "17\n",
      "52\n",
      "26\n",
      "13\n",
      "40\n",
      "20\n",
      "10\n",
      "5\n",
      "16\n",
      "8\n",
      "4\n",
      "2\n",
      "1\n"
     ]
    }
   ],
   "source": [
    "try:\n",
    "    x = int(input(\"Enter any Positive number: \"))\n",
    "    collatz(x)\n",
    "except Exception as e:\n",
    "    print('Error: ' + str(e))\n"
   ]
  },
  {
   "cell_type": "markdown",
   "id": "b8a4f3f4",
   "metadata": {},
   "source": [
    "## <font color=\"blue\"> Question - 5: Write a recursive method binary() that takes a non-negative integer n and prints the binary representation of integer n.</font>"
   ]
  },
  {
   "cell_type": "code",
   "execution_count": 23,
   "id": "13204017",
   "metadata": {},
   "outputs": [
    {
     "name": "stdout",
     "output_type": "stream",
     "text": [
      "\n",
      " binary(0) = 0\n",
      " binary(10) = 1010\n",
      " binary(45) = 101101\n",
      " binary(64) = 1000000"
     ]
    }
   ],
   "source": [
    "global temp\n",
    "temp = \"\"\n",
    "\n",
    "def binary(n):\n",
    "    x = n\n",
    "    if x > 1:\n",
    "        binary(x // 2)\n",
    "    print(x % 2, end=\"\")\n",
    "\n",
    "    \n",
    "print(\"\\n binary(0) = \", end=\"\")\n",
    "binary(0)\n",
    "print(\"\\n binary(10) = \", end=\"\")\n",
    "binary(10)\n",
    "print(\"\\n binary(45) = \", end=\"\")\n",
    "binary(45)\n",
    "print(\"\\n binary(64) = \", end=\"\")\n",
    "binary(64)"
   ]
  },
  {
   "cell_type": "markdown",
   "id": "d23d62ac",
   "metadata": {},
   "source": [
    "## <font color=\"blue\"> Question - 6: Implement a class named HeadingParser that can be used to parse an HTML document, and retrieve and print all the headings in the document. You should implement your class as a subclass of HTMLParser, defined in Standard Library module html.parser. When fed a string containing HTML code, your class should print the headings, one per line and in the order in which they appear in the document. Each heading should be indented as follows: an h1 heading should have indentation 0, and h2 heading should have indentation 1, etc. Test your implementation using w3c.html.</font>"
   ]
  },
  {
   "cell_type": "code",
   "execution_count": 24,
   "id": "c1b3ba3b",
   "metadata": {},
   "outputs": [
    {
     "name": "stdout",
     "output_type": "stream",
     "text": [
      "W3C Mission\n",
      "  Principles\n",
      " Hello world!\n"
     ]
    }
   ],
   "source": [
    "from html.parser import HTMLParser\n",
    "\n",
    "class HeadingParser(HTMLParser):\n",
    "    def __init__(self):\n",
    "        super().__init__()\n",
    "        self.heading_level = 0\n",
    "        self.in_heading = False\n",
    "    \n",
    "    def handle_starttag(self, tag, attrs):\n",
    "        if tag.startswith('h') and len(tag) == 2:\n",
    "            self.heading_level = int(tag[1])\n",
    "            self.in_heading = True\n",
    "    \n",
    "    def handle_endtag(self, tag):\n",
    "        if tag.startswith('h') and len(tag) == 2:\n",
    "            self.heading_level = 0\n",
    "            self.in_heading = False\n",
    "    \n",
    "    def handle_data(self, data):\n",
    "        if self.in_heading:\n",
    "            indent = ' ' * (self.heading_level - 1)\n",
    "            print(f\"{indent}{data}\")\n",
    "\n",
    "            \n",
    "infile = open('w3c.html')\n",
    "content = infile.read()\n",
    "infile.close()\n",
    "\n",
    "hp = HeadingParser()\n",
    "hp.feed(content)\n"
   ]
  },
  {
   "cell_type": "markdown",
   "id": "3f8af380",
   "metadata": {},
   "source": [
    "## <font color=\"blue\"> Question - 7: Implement recursive function webdir() that takes as input: a URL (as a string) and non-negative integers depth and indent. Your function should visit every web page reachable from the starting URL web page in depth clicks or less, and print each web page's URL. As shown below, indentation, specified by indent, should be used to indicate the depth of a URL. </font>"
   ]
  },
  {
   "cell_type": "code",
   "execution_count": 25,
   "id": "2702e394",
   "metadata": {},
   "outputs": [
    {
     "name": "stdout",
     "output_type": "stream",
     "text": [
      "https://www.ldrp.ac.in/computer-3/\n",
      " https://www.ldrp.ac.in/student-corner/\n",
      " https://www.ldrp.ac.in/about-us/\n",
      " https://www.ldrp.ac.in/about-svkm/\n",
      " https://www.ldrp.ac.in/placement/\n",
      " https://www.ldrp.ac.in/activities/ncc/\n",
      " https://www.ldrp.ac.in/activities/nss/\n",
      " https://www.ldrp.ac.in/activities/sports/\n",
      " https://www.ldrp.ac.in/wp-content/uploads/AboutCourses.pdf\n",
      " https://www.ldrp.ac.in/wp-content/uploads/RegistrationDetails.pdf\n",
      " https://docs.google.com/forms/d/e/1FAIpQLScPDT6xImLBqXU-S_0ezVBxlkvSRy-JIInhvLzbKFMw9ownug/viewform?usp=sf_link\n",
      " https://www.ldrp.ac.in/contact-us/\n",
      " https://www.ldrp.ac.in/sitemap_index.xml\n",
      " https://webmail.ksv.ac.in/\n",
      " https://www.ldrp.ac.in\n",
      " https://www.ldrp.ac.in/wp-content/uploads/MBA_801615_MERIT_LIST.pdf\n",
      " https://www.ldrp.ac.in/wp-content/uploads/MCA_801533_MERIT_LIST.pdf\n",
      " https://www.ldrp.ac.in/administration/board-of-governors/\n",
      " https://www.ldrp.ac.in/tribute-shri-m-m-patel-saheb/\n",
      " https://www.ldrp.ac.in/administration/chairman/\n",
      " https://www.ldrp.ac.in/administration/principal/\n",
      " https://www.ldrp.ac.in/branches-cbcs-w-e-f-ay-2017/\n",
      " https://www.ldrp.ac.in/first-year-meautocivilee-cbcs-w-e-f-2017/\n",
      " https://www.ldrp.ac.in/departments/science-humanities/\n",
      " https://www.ldrp.ac.in/scheme-computer-cbcs/\n",
      " https://www.ldrp.ac.in/scheme-it-cbcs/\n",
      " https://www.ldrp.ac.in/scheme-ec-cbcs/\n",
      " https://www.ldrp.ac.in/scheme-electrical-cbcs/\n",
      " https://www.ldrp.ac.in/scheme-mechanical-cbcs/\n",
      " https://www.ldrp.ac.in/scheme-auto-cbcs/\n",
      " https://www.ldrp.ac.in/scheme-civil-cbcs/\n",
      " https://www.ldrp.ac.in/scheme-computer-cbcs-2/\n",
      " https://www.ldrp.ac.in/scheme-electrical-power-system-2/\n",
      " https://www.ldrp.ac.in/wp-content/uploads/ME-Automobile.pdf\n",
      " https://www.ldrp.ac.in/wp-content/uploads/ME-Thermal.pdf\n",
      " https://www.ldrp.ac.in/wp-content/uploads/ME-Production.pdf\n",
      " https://www.ldrp.ac.in/scheme-civil-cbcs-new/\n",
      " https://www.ldrp.ac.in/scheme-computer/\n",
      " https://www.ldrp.ac.in/scheme-it/\n",
      " https://www.ldrp.ac.in/scheme-ec/\n",
      " https://www.ldrp.ac.in/scheme-electrical/\n",
      " https://www.ldrp.ac.in/scheme-mechanical/\n",
      " https://www.ldrp.ac.in/scheme-automobile/\n",
      " https://www.ldrp.ac.in/scheme-civil/\n",
      " https://www.ldrp.ac.in/scheme-me-automobile/\n",
      " https://www.ldrp.ac.in/scheme-me-thermal/\n",
      " https://www.ldrp.ac.in/scheme-me-production/\n",
      " https://www.ldrp.ac.in/scheme-me-computer/\n",
      " https://www.ldrp.ac.in/scheme-electrical-power-system/\n",
      " https://www.ldrp.ac.in/scheme-me-civil/\n",
      " https://www.ldrp.ac.in/scheme-mba/\n",
      " https://www.ldrp.ac.in/mca-new-cbcs-syllabus-2018/\n",
      " https://www.ldrp.ac.in/information-technology/\n",
      " https://www.ldrp.ac.in/ec-department/\n",
      " https://www.ldrp.ac.in/civil-department/\n",
      " https://www.ldrp.ac.in/electrical-department/\n",
      " https://www.ldrp.ac.in/mechanical/\n",
      " https://www.ldrp.ac.in/automobile/\n",
      " https://www.ldrp.ac.in/science-humanities-department/\n",
      " https://www.ldrp.ac.in/mba/\n",
      " https://www.ldrp.ac.in/mca/\n",
      " https://www.ldrp.ac.in/wp-content/uploads/GreenK.pdf\n",
      " https://www.ldrp.ac.in/activities/cwdc-cell/\n",
      " https://www.ldrp.ac.in/computer-3/#top\n",
      " https://www.ldrp.ac.in/computer-faculties/\n",
      " https://www.ldrp.ac.in/computer-3/#1545801628711-8832c9df-3529\n",
      " https://www.ldrp.ac.in/wp-content/uploads/AboutComputer7.jpg\n",
      " https://www.ldrp.ac.in/wp-content/uploads/AboutComputer6.jpg\n",
      " https://www.ldrp.ac.in/wp-content/uploads/AboutComputer1.jpg\n",
      " https://www.ldrp.ac.in/wp-content/uploads/AboutComputer2.jpg\n",
      " https://www.ldrp.ac.in/wp-content/uploads/AboutComputer3.jpg\n",
      " https://www.ldrp.ac.in/wp-content/uploads/AboutComputer4.jpg\n",
      " https://www.ldrp.ac.in/wp-content/uploads/AboutComputer5.jpg\n",
      " https://www.ldrp.ac.in/computer-3/#vc_images-carousel-1-1677041533\n",
      " https://www.ldrp.ac.in/computer-3/#1545796998694-14da5852-e83c\n",
      " https://www.ldrp.ac.in/computer-3/#1545798691176-73c9d7a5-43a1\n",
      " https://www.ldrp.ac.in/computer-3/#1545799340146-980d714d-8729\n",
      " https://www.ldrp.ac.in/computer-3/#1545799515608-eb0fdceb-97fd\n",
      " https://www.ldrp.ac.in/computer-3/#1545799542166-b117eae5-cb7c\n",
      " https://www.ldrp.ac.in/computer-3/#1545799616773-0b732da5-e22e\n",
      " https://www.ldrp.ac.in/computer-3/#1545799633393-a9a03b5c-b1c0\n",
      " https://www.ldrp.ac.in/computer-3/#1545799649373-5cd12dca-743d\n",
      " https://www.ldrp.ac.in/computer-3/#1545799657532-f857a2b9-910b\n",
      " http://www.techrrival.com/\n",
      " https://www.facebook.com/ldrpitr/\n",
      " https://breakthebarrier.ldrp.ac.in/\n",
      " https://www.ldrp.ac.in/wp-content/uploads/STTP-Brochure.pdf\n",
      " https://docs.google.com/forms/d/e/1FAIpQLSccMm3cDLLcTumgl48W-nww1jEgmE88TQIbwlYGDpn1YCfIgw/viewform\n",
      " https://www.ldrp.ac.in/admission-inquiry/\n"
     ]
    }
   ],
   "source": [
    "from urllib.request import urlopen\n",
    "from urllib.parse import urljoin\n",
    "from html.parser import HTMLParser\n",
    "\n",
    "\n",
    "class Collector(HTMLParser):\n",
    "    'collects hyperlink URLs into a list'\n",
    "\n",
    "    def __init__(self, url):\n",
    "        HTMLParser.__init__(self)\n",
    "        self.url = url\n",
    "        self.links = []\n",
    "\n",
    "    def handle_starttag(self, tag, attrs):\n",
    "        if tag == 'a':\n",
    "            for attr in attrs:\n",
    "                if attr[0] == 'href':\n",
    "                    absolute = urljoin(self.url, attr[1])\n",
    "                    if absolute[:4] == 'http':  # collect HTTP URLs\n",
    "                        self.links.append(absolute)\n",
    "\n",
    "    def getLinks(self):\n",
    "        return self.links\n",
    "\n",
    "\n",
    "visited = set()  # initialize visited to an empty set\n",
    "\n",
    "\n",
    "def webdir(url, depth, indent):\n",
    "    global visited\n",
    "    if depth == 0:\n",
    "        return\n",
    "    if url in visited:\n",
    "        return\n",
    "    visited.add(url)\n",
    "    print(' ' * indent + url)\n",
    "    try:\n",
    "        content = urlopen(url).read().decode()\n",
    "    except:\n",
    "        return\n",
    "    collector = Collector(url)\n",
    "    collector.feed(content)\n",
    "    links = collector.getLinks()\n",
    "    for link in links:\n",
    "        webdir(link, depth - 1, indent + 1)\n",
    "\n",
    "\n",
    "# test the webdir function\n",
    "webdir('https://www.ldrp.ac.in/computer-3/', 2, 0)\n"
   ]
  },
  {
   "cell_type": "markdown",
   "id": "832b281e",
   "metadata": {},
   "source": [
    "## <font color=\"blue\"> Question - 8: Write SQL queries on the below database table that return:</font>"
   ]
  },
  {
   "cell_type": "markdown",
   "id": "43bf216b",
   "metadata": {},
   "source": [
    "###  a) All the temperature data.\n",
    "#### <font color=\"green\">&nbsp;&nbsp;&nbsp;&nbsp;SELECT Temperature FROM tableTemperature;</font>\n",
    "### b) All the cities, but without repetition.\n",
    "#### <font color=\"green\">&nbsp;&nbsp;&nbsp;&nbsp;SELECT DISTINCT City FROM tableTemperature;</font>\n",
    "### c) All the records for India.\n",
    "#### <font color=\"green\">&nbsp;&nbsp;&nbsp;&nbsp;SELECT * FROM tableTemperature WHERE Country='India';</font>\n",
    "### d) All the Fall records.\n",
    "#### <font color=\"green\">&nbsp;&nbsp;&nbsp;&nbsp;SELECT * FROM tableTemperature WHERE Season='Fall';</font>\n",
    "### e) The city, country, and season for which the average rainfall is between 200 and 400 millimeters.\n",
    "#### <font color=\"green\">&nbsp;&nbsp;&nbsp;&nbsp;SELECT City, Country, Season FROM tableTemperature WHERE Rainfall BETWEEN 200 AND 400;</font>\n",
    "### f) The city and country for which the average Fall temperature is above 20 degrees, in increasing temperature order.\n",
    "#### <font color=\"green\">&nbsp;&nbsp;&nbsp;&nbsp;SELECT City, Country FROM tableTemperature WHERE Season='Fall' AND Temperature > 20 ORDER BY Temperature ASC;</font>\n",
    "### g) The total annual rainfall for Cairo.\n",
    "#### <font color=\"green\">&nbsp;&nbsp;&nbsp;&nbsp;SELECT SUM(Rainfall) FROM tableTemperature WHERE City='Cairo';</font>\n",
    "### h) The total rainfall for each season.\n",
    "#### <font color=\"green\">&nbsp;&nbsp;&nbsp;&nbsp;SELECT Season, SUM(Rainfall) FROM tableTemperature GROUP BY Season;</font><br><br>"
   ]
  },
  {
   "cell_type": "markdown",
   "id": "a47ce951",
   "metadata": {},
   "source": [
    "## <font color=\"blue\"> Question - 9: Suppose list words is defined as follows:</font>"
   ]
  },
  {
   "cell_type": "code",
   "execution_count": 12,
   "id": "2cb8bf02",
   "metadata": {},
   "outputs": [],
   "source": [
    "words = ['The', 'quick', 'brown', 'fox', 'jumps', 'over','the', 'lazy', 'dog']"
   ]
  },
  {
   "cell_type": "markdown",
   "id": "f0dccf52",
   "metadata": {},
   "source": [
    "## <font color=\"blue\"> Write list comprehension expressions that use list words and generate the following lists: "
   ]
  },
  {
   "cell_type": "markdown",
   "id": "125f6fdd",
   "metadata": {},
   "source": [
    "### a) ['THE', 'QUICK', 'BROWN', 'FOX', 'JUMPS', 'OVER', 'THE', 'LAZY', 'DOG']"
   ]
  },
  {
   "cell_type": "code",
   "execution_count": 13,
   "id": "1a3a36b8",
   "metadata": {},
   "outputs": [
    {
     "name": "stdout",
     "output_type": "stream",
     "text": [
      "['THE', 'QUICK', 'BROWN', 'FOX', 'JUMPS', 'OVER', 'THE', 'LAZY', 'DOG']\n"
     ]
    }
   ],
   "source": [
    "List1 = []\n",
    "for word in words:\n",
    "    List1.append(word.upper())\n",
    "print(List1)"
   ]
  },
  {
   "cell_type": "markdown",
   "id": "6b43df15",
   "metadata": {},
   "source": [
    "### b) ['the', 'quick', 'brown', 'fox', 'jumps', 'over', 'the', 'lazy', 'dog']"
   ]
  },
  {
   "cell_type": "code",
   "execution_count": 14,
   "id": "479e8af7",
   "metadata": {},
   "outputs": [
    {
     "name": "stdout",
     "output_type": "stream",
     "text": [
      "['the', 'quick', 'brown', 'fox', 'jumps', 'over', 'the', 'lazy', 'dog']\n"
     ]
    }
   ],
   "source": [
    "List2 = []\n",
    "for word in words:\n",
    "    List2.append(word.lower())\n",
    "print(List2)"
   ]
  },
  {
   "cell_type": "markdown",
   "id": "389ba54a",
   "metadata": {},
   "source": [
    "### c) [3, 5, 5, 3, 5, 4, 3, 4, 3] (the list of lengths of words in list words)."
   ]
  },
  {
   "cell_type": "code",
   "execution_count": 15,
   "id": "a4f4c040",
   "metadata": {},
   "outputs": [
    {
     "name": "stdout",
     "output_type": "stream",
     "text": [
      "[3, 5, 5, 3, 5, 4, 3, 4, 3]\n"
     ]
    }
   ],
   "source": [
    "List3 = []\n",
    "for word in words:\n",
    "    List3.append(len(word))\n",
    "print(List3)"
   ]
  },
  {
   "cell_type": "markdown",
   "id": "55c062e3",
   "metadata": {},
   "source": [
    "### d) [['THE', 'the', 3], ['QUICK', 'quick', 5], ['BROWN', 'brown', 5], ['FOX', 'fox', 3], ['JUMPS', 'jumps', 5],<br>&nbsp;&nbsp;&nbsp;&nbsp; ['OVER', 'over', 4], ['THE', 'the', 3], ['LAZY', 'lazy', 4], ['DOG', 'dog', 3]] (the list containing a list for every word of<br>&nbsp;&nbsp;&nbsp;&nbsp; list words, where each list contains the word in uppercase and lowercase and the length of the word.)"
   ]
  },
  {
   "cell_type": "code",
   "execution_count": 16,
   "id": "c9e810c1",
   "metadata": {},
   "outputs": [
    {
     "name": "stdout",
     "output_type": "stream",
     "text": [
      "[['THE', 'the', 3], ['QUICK', 'quick', 5], ['BROWN', 'brown', 5], ['FOX', 'fox', 3], ['JUMPS', 'jumps', 5], ['OVER', 'over', 4], ['THE', 'the', 3], ['LAZY', 'lazy', 4], ['DOG', 'dog', 3]]\n"
     ]
    }
   ],
   "source": [
    "List4 = []\n",
    "for word in words:\n",
    "    ListTemp = []\n",
    "    ListTemp.append(word.upper())\n",
    "    ListTemp.append(word.lower())\n",
    "    ListTemp.append(len(word))\n",
    "    List4.append(ListTemp)\n",
    "print(List4)"
   ]
  },
  {
   "cell_type": "markdown",
   "id": "b360e2a9",
   "metadata": {},
   "source": [
    "### e) ['The', 'quick', 'brown', 'fox', 'jumps', 'over', 'the', 'lazy', 'dog'] (the list of words in list words containing 4 or more characters.)"
   ]
  },
  {
   "cell_type": "code",
   "execution_count": 17,
   "id": "7b55629a",
   "metadata": {},
   "outputs": [
    {
     "name": "stdout",
     "output_type": "stream",
     "text": [
      "['quick', 'brown', 'jumps', 'over', 'lazy']\n"
     ]
    }
   ],
   "source": [
    "List5 = []\n",
    "for word in words:\n",
    "    if len(word) >= 4:\n",
    "        List5.append(word)\n",
    "print(List5)"
   ]
  }
 ],
 "metadata": {
  "kernelspec": {
   "display_name": "Python 3 (ipykernel)",
   "language": "python",
   "name": "python3"
  },
  "language_info": {
   "codemirror_mode": {
    "name": "ipython",
    "version": 3
   },
   "file_extension": ".py",
   "mimetype": "text/x-python",
   "name": "python",
   "nbconvert_exporter": "python",
   "pygments_lexer": "ipython3",
   "version": "3.9.13"
  }
 },
 "nbformat": 4,
 "nbformat_minor": 5
}
